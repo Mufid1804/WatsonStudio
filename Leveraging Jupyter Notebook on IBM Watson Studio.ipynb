{
    "cells": [
        {
            "metadata": {
                "collapsed": true
            },
            "cell_type": "markdown",
            "source": "# My Jupyter Notebook on IBM Watson Studio"
        },
        {
            "metadata": {},
            "cell_type": "markdown",
            "source": "Hello, My name is **Muhammad Mufid Irfan Farras**. Now I am student at Bandung Institute of Technology, Indonesia."
        },
        {
            "metadata": {},
            "cell_type": "markdown",
            "source": "*Indonesia is one of the world largest agricultural countries. To increase the productivity and effectivity, we can use data such as: environmental data, nutrition data et cetera. Thats why i want to learn data science, to improve agricultural sector in Indonesia*"
        },
        {
            "metadata": {},
            "cell_type": "markdown",
            "source": "### This is the code to say I Love You"
        },
        {
            "metadata": {},
            "cell_type": "code",
            "source": "a = 'I'\nb = ' Love '\nc = 'U'\nprint(a+b+c)",
            "execution_count": 3,
            "outputs": [
                {
                    "output_type": "stream",
                    "text": "I Love U\n",
                    "name": "stdout"
                }
            ]
        },
        {
            "metadata": {},
            "cell_type": "markdown",
            "source": "I want to let u know, why I Love U.\n1. You are Beautiful\n2. Back to one\n---\nThen here is the flower.\n\n\n![Beautiful Flower](https://upload.wikimedia.org/wikipedia/commons/thumb/3/38/Flower_July_2011-2_1_cropped.jpg/1024px-Flower_July_2011-2_1_cropped.jpg)\nI got that flower from [Here](https://en.wikipedia.org/wiki/Pseudanthium)\nAnd this is for You. \n\n---\n>These are your own words\n>your way of noticing\n>and saying plainly\nof not turning away\n\n>from hurt\nyou have offered them \nto me    I am only \ngiving them back \n\n>if only I could show you\nhow very useless \nthey are not\n\n---\n(by Craig Arnold, [Link](https://reedsy.com/discovery/blog/love-poems))"
        }
    ],
    "metadata": {
        "kernelspec": {
            "name": "python3",
            "display_name": "Python 3.8",
            "language": "python"
        },
        "language_info": {
            "name": "python",
            "version": "3.8.12",
            "mimetype": "text/x-python",
            "codemirror_mode": {
                "name": "ipython",
                "version": 3
            },
            "pygments_lexer": "ipython3",
            "nbconvert_exporter": "python",
            "file_extension": ".py"
        }
    },
    "nbformat": 4,
    "nbformat_minor": 1
}